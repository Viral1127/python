{
 "cells": [
  {
   "cell_type": "markdown",
   "metadata": {
    "id": "52JHRp_-GdDJ"
   },
   "source": [
    "<a href='https://www.darshan.ac.in/'> <img src='https://www.darshan.ac.in/Content/media/DU_Logo.svg' width=\"250\" height=\"300\"/></a>\n",
    "<pre>\n",
    "<center><b><h1>Python Programming - 2101CS405</b></center>\n",
    "<center><b><h1>Lab - 9</b></center>    \n",
    "<pre>"
   ]
  },
  {
   "cell_type": "markdown",
   "metadata": {
    "id": "Z4jxwUNYNktt"
   },
   "source": [
    "<h1>Name : Viral Chauhan</h1>\n",
    "<h2>Enrollment : 22010101027</h2>\n",
    "<h2>Roll No. : 184  Batch : A4</h2>"
   ]
  },
  {
   "cell_type": "markdown",
   "metadata": {
    "id": "feilgBDMGdDL"
   },
   "source": [
    "# Exception Handling"
   ]
  },
  {
   "cell_type": "code",
   "execution_count": 1,
   "metadata": {
    "colab": {
     "base_uri": "https://localhost:8080/",
     "height": 0
    },
    "executionInfo": {
     "elapsed": 4,
     "status": "ok",
     "timestamp": 1707118749463,
     "user": {
      "displayName": "Javiya Hit",
      "userId": "07658258706577815819"
     },
     "user_tz": -330
    },
    "id": "ehS5dcohMzRH",
    "outputId": "67679087-5140-48ea-ecd4-a1c4b9af70c7"
   },
   "outputs": [
    {
     "name": "stdout",
     "output_type": "stream",
     "text": [
      "Invalid Datatype\n",
      "finally Block Excuted\n"
     ]
    }
   ],
   "source": [
    "try:\n",
    "    a=5\n",
    "    b=\"3\"\n",
    "    c=a+b\n",
    "except TypeError:\n",
    "    print(\"Invalid Datatype\")\n",
    "else:\n",
    "    print(\"else Block Excuted\")\n",
    "finally:\n",
    "    print(\"finally Block Excuted\")"
   ]
  },
  {
   "cell_type": "markdown",
   "metadata": {
    "id": "puxDNiNsGdDM"
   },
   "source": [
    "# A"
   ]
  },
  {
   "cell_type": "markdown",
   "metadata": {
    "id": "qRlmpUiiGdDM"
   },
   "source": [
    "### 01) WAP to handle divide by zero exception."
   ]
  },
  {
   "cell_type": "code",
   "execution_count": 1,
   "metadata": {
    "id": "NwAA8LBCGdDM",
    "outputId": "fa491513-c144-49e5-c2b4-27ae3ce411c0"
   },
   "outputs": [
    {
     "name": "stdout",
     "output_type": "stream",
     "text": [
      "Enter a number : 4\n",
      "divide by zero not possible\n"
     ]
    }
   ],
   "source": [
    "try:\n",
    "    a=int(input(\"Enter a number : \"))\n",
    "    b=0\n",
    "    c=a/b\n",
    "except ZeroDivisionError:\n",
    "    print(\"divide by zero not possible\")"
   ]
  },
  {
   "cell_type": "markdown",
   "metadata": {
    "id": "fXwKts6XGdDN"
   },
   "source": [
    "### 02)  Write a Python program that inputs a number and generates an error message if it is not a number."
   ]
  },
  {
   "cell_type": "code",
   "execution_count": 4,
   "metadata": {
    "id": "g5sCw_iQGdDN",
    "outputId": "4a2e4988-5857-4da5-d7fd-e71d6baaaf92"
   },
   "outputs": [
    {
     "name": "stdout",
     "output_type": "stream",
     "text": [
      "Enter a number : d\n",
      "value error\n"
     ]
    }
   ],
   "source": [
    "try:\n",
    "    a=int(input(\"Enter a number : \"))\n",
    "    \n",
    "except ValueError:\n",
    "    print(\"value error\")"
   ]
  },
  {
   "cell_type": "markdown",
   "metadata": {
    "id": "agiEJvAlGdDN"
   },
   "source": [
    "### 03) WAP to handle file not found Exception"
   ]
  },
  {
   "cell_type": "code",
   "execution_count": 8,
   "metadata": {
    "id": "sgPKlL3bGdDO",
    "outputId": "a30c6807-b299-4e0b-891a-0ddc35dd646b"
   },
   "outputs": [
    {
     "name": "stdout",
     "output_type": "stream",
     "text": [
      "file not found\n"
     ]
    }
   ],
   "source": [
    "try:\n",
    "    f = open(\"kishan.txt\",'r')\n",
    "except FileNotFoundError:\n",
    "    print(\"file not found\")"
   ]
  },
  {
   "cell_type": "markdown",
   "metadata": {
    "id": "vaDESoM3GdDO"
   },
   "source": [
    "### 04) WAP to handle type Exception."
   ]
  },
  {
   "cell_type": "code",
   "execution_count": 10,
   "metadata": {
    "id": "zJHbz1ZMGdDO",
    "outputId": "d16634b4-3a26-4977-8f00-7c1305ae727d"
   },
   "outputs": [
    {
     "name": "stdout",
     "output_type": "stream",
     "text": [
      "type error\n"
     ]
    }
   ],
   "source": [
    "try:\n",
    "    a=\"parth\"\n",
    "    b= 1\n",
    "    c = b+ a\n",
    "except TypeError:\n",
    "    print(\"type error\")"
   ]
  },
  {
   "cell_type": "markdown",
   "metadata": {
    "id": "K2Uz2P0WGdDO"
   },
   "source": [
    "### 05) WAP to demonstrate valueError and indexError with example."
   ]
  },
  {
   "cell_type": "code",
   "execution_count": 23,
   "metadata": {
    "colab": {
     "base_uri": "https://localhost:8080/"
    },
    "executionInfo": {
     "elapsed": 3419,
     "status": "ok",
     "timestamp": 1707117118034,
     "user": {
      "displayName": "Javiya Hit",
      "userId": "07658258706577815819"
     },
     "user_tz": -330
    },
    "id": "vOr_lTjcGdDO",
    "outputId": "e0a32d09-28c4-487f-d105-4db030b7a1ed"
   },
   "outputs": [
    {
     "name": "stdout",
     "output_type": "stream",
     "text": [
      "Value error\n",
      "Index error\n"
     ]
    }
   ],
   "source": [
    "def errorFun(a,b='as'):\n",
    "    try:\n",
    "        a=int(a)\n",
    "        b= b[10]\n",
    "    except ValueError:\n",
    "        print(\"Value error\")\n",
    "    except IndexError:\n",
    "        print(\"Index error\")\n",
    "\n",
    "errorFun('a')\n",
    "errorFun('10','sdfg')"
   ]
  },
  {
   "cell_type": "markdown",
   "metadata": {
    "id": "DPCOrdbRGdDP"
   },
   "source": [
    "### 06) WAP to domonstrate else  and finally block."
   ]
  },
  {
   "cell_type": "code",
   "execution_count": 26,
   "metadata": {
    "colab": {
     "base_uri": "https://localhost:8080/"
    },
    "executionInfo": {
     "elapsed": 4033,
     "status": "ok",
     "timestamp": 1707117243257,
     "user": {
      "displayName": "Javiya Hit",
      "userId": "07658258706577815819"
     },
     "user_tz": -330
    },
    "id": "Dr7POR__GdDP",
    "outputId": "ed07075b-35a3-42d5-a18b-5e3e66409303"
   },
   "outputs": [
    {
     "name": "stdout",
     "output_type": "stream",
     "text": [
      "this is else, only when exception is not occured 5\n",
      "i am finally, every time  5\n",
      "Zero Division Error 0\n",
      "i am finally, every time  0\n"
     ]
    }
   ],
   "source": [
    "def errorFun(a):\n",
    "    try:    \n",
    "        b= 5/a\n",
    "    except ZeroDivisionError:\n",
    "        print(\"Zero Division Error\",a)\n",
    "    else:\n",
    "        print(\"this is else, only when exception is not occured\",a)\n",
    "    finally:\n",
    "        print(\"i am finally, every time \",a)\n",
    "errorFun(5)\n",
    "errorFun(0)\n"
   ]
  },
  {
   "cell_type": "markdown",
   "metadata": {
    "id": "ZxtPT9-TGdDP"
   },
   "source": [
    "### 07) Create a short program that prompts the user for a list of grades separated by commas. Split the string into individual grades and use a list comprehension to convert each string to an integer. You should use a try statement to inform the user when the values they entered cannot be converted."
   ]
  },
  {
   "cell_type": "code",
   "execution_count": 28,
   "metadata": {
    "colab": {
     "base_uri": "https://localhost:8080/"
    },
    "executionInfo": {
     "elapsed": 18538,
     "status": "ok",
     "timestamp": 1707117299649,
     "user": {
      "displayName": "Javiya Hit",
      "userId": "07658258706577815819"
     },
     "user_tz": -330
    },
    "id": "JzIjDs5iGdDP",
    "outputId": "481080a7-2e2c-4e26-cdfe-f789e2aff399"
   },
   "outputs": [
    {
     "name": "stdout",
     "output_type": "stream",
     "text": [
      "enter comma separated marks : 5,6,p\n",
      "value can't converted\n"
     ]
    }
   ],
   "source": [
    "grades = input(\"enter comma separated marks : \")\n",
    "grades = grades.split(\",\")\n",
    "myList = []\n",
    "try :\n",
    "    myList = [int(i) for i in grades]\n",
    "except ValueError:\n",
    "    print(\"value can't converted\")"
   ]
  },
  {
   "cell_type": "markdown",
   "metadata": {
    "id": "BcuR_xwaGdDP"
   },
   "source": [
    "# B"
   ]
  },
  {
   "cell_type": "markdown",
   "metadata": {
    "id": "VyTt1sHSGdDQ"
   },
   "source": [
    "### 01) WAP to Raising User Generated Exception."
   ]
  },
  {
   "cell_type": "code",
   "execution_count": 29,
   "metadata": {
    "colab": {
     "base_uri": "https://localhost:8080/"
    },
    "executionInfo": {
     "elapsed": 3369,
     "status": "ok",
     "timestamp": 1707117687778,
     "user": {
      "displayName": "Javiya Hit",
      "userId": "07658258706577815819"
     },
     "user_tz": -330
    },
    "id": "yabp2M2mGdDQ",
    "outputId": "8111c420-c2f0-483c-ae5a-84d4351bcf61"
   },
   "outputs": [
    {
     "name": "stdout",
     "output_type": "stream",
     "text": [
      "Enter a positive number-1\n"
     ]
    },
    {
     "ename": "MyError",
     "evalue": "number can not be negative",
     "output_type": "error",
     "traceback": [
      "\u001b[1;31m---------------------------------------------------------------------------\u001b[0m",
      "\u001b[1;31mMyError\u001b[0m                                   Traceback (most recent call last)",
      "Cell \u001b[1;32mIn[29], line 8\u001b[0m\n\u001b[0;32m      6\u001b[0m a \u001b[38;5;241m=\u001b[39m \u001b[38;5;28mint\u001b[39m(\u001b[38;5;28minput\u001b[39m(\u001b[38;5;124m\"\u001b[39m\u001b[38;5;124mEnter a positive number\u001b[39m\u001b[38;5;124m\"\u001b[39m))\n\u001b[0;32m      7\u001b[0m \u001b[38;5;28;01mif\u001b[39;00m(a\u001b[38;5;241m<\u001b[39m\u001b[38;5;241m0\u001b[39m):\n\u001b[1;32m----> 8\u001b[0m     \u001b[38;5;28;01mraise\u001b[39;00m MyError(\u001b[38;5;124m\"\u001b[39m\u001b[38;5;124mnumber can not be negative\u001b[39m\u001b[38;5;124m\"\u001b[39m)\n\u001b[0;32m      9\u001b[0m \u001b[38;5;28;01melse\u001b[39;00m:\n\u001b[0;32m     10\u001b[0m     \u001b[38;5;28mprint\u001b[39m(\u001b[38;5;124m\"\u001b[39m\u001b[38;5;124mpositive number\u001b[39m\u001b[38;5;124m\"\u001b[39m,a)\n",
      "\u001b[1;31mMyError\u001b[0m: number can not be negative"
     ]
    }
   ],
   "source": [
    "class MyError(Exception):\n",
    "    def __init__(self, message):\n",
    "        self.message = message\n",
    "\n",
    "\n",
    "a = int(input(\"Enter a positive number\"))\n",
    "if(a<0):\n",
    "    raise MyError(\"number can not be negative\")\n",
    "else:\n",
    "    print(\"positive number\",a)\n",
    "\n"
   ]
  },
  {
   "cell_type": "markdown",
   "metadata": {
    "id": "atC7pAz3GdDQ"
   },
   "source": [
    "### 02) WAP to raise your custom Exception."
   ]
  },
  {
   "cell_type": "code",
   "execution_count": 37,
   "metadata": {
    "colab": {
     "base_uri": "https://localhost:8080/"
    },
    "executionInfo": {
     "elapsed": 3541,
     "status": "ok",
     "timestamp": 1707118532669,
     "user": {
      "displayName": "Javiya Hit",
      "userId": "07658258706577815819"
     },
     "user_tz": -330
    },
    "id": "Ug8Lm4lKGdDQ",
    "outputId": "4bccde70-6e5c-440e-f301-6595425826cb"
   },
   "outputs": [
    {
     "name": "stdout",
     "output_type": "stream",
     "text": [
      "Enter a odd number4\n",
      "number cannot be negative\n"
     ]
    }
   ],
   "source": [
    "class MyError(Exception):\n",
    "    def __init__(self):\n",
    "        self.message = \"number cannot be negative\"\n",
    "\n",
    "\n",
    "        \n",
    "a = int(input(\"Enter a odd number\"))\n",
    "try:\n",
    "    if(a%2 == 0):\n",
    "        raise MyError\n",
    "    else:\n",
    "        print(\"positive number\",a)\n",
    "except MyError as e:\n",
    "    print(e.message)\n",
    "\n"
   ]
  },
  {
   "cell_type": "code",
   "execution_count": null,
   "metadata": {},
   "outputs": [],
   "source": []
  }
 ],
 "metadata": {
  "colab": {
   "provenance": [
    {
     "file_id": "1etOeaeFahen83DZIeSj6S93BiowaXT7m",
     "timestamp": 1707118567055
    }
   ]
  },
  "kernelspec": {
   "display_name": "Python 3 (ipykernel)",
   "language": "python",
   "name": "python3"
  },
  "language_info": {
   "codemirror_mode": {
    "name": "ipython",
    "version": 3
   },
   "file_extension": ".py",
   "mimetype": "text/x-python",
   "name": "python",
   "nbconvert_exporter": "python",
   "pygments_lexer": "ipython3",
   "version": "3.11.5"
  },
  "vscode": {
   "interpreter": {
    "hash": "5238573367df39f7286bb46f9ff5f08f63a01a80960060ce41e3c79b190280fa"
   }
  }
 },
 "nbformat": 4,
 "nbformat_minor": 4
}
