{
 "cells": [
  {
   "cell_type": "markdown",
   "metadata": {},
   "source": [
    "\n",
    "<a href='https://www.darshan.ac.in/'> <img src='https://www.darshan.ac.in/Content/media/DU_Logo.svg' width=\"250\" height=\"300\"/></a>\n",
    "<pre>\n",
    "<center><b><h1>Python Programming - 2101CS405</b></center>\n",
    "<center><b><h1>Lab - 2</b></center>    \n",
    "<pre>"
   ]
  },
  {
   "cell_type": "markdown",
   "metadata": {},
   "source": [
    "# if..else.."
   ]
  },
  {
   "cell_type": "markdown",
   "metadata": {},
   "source": [
    "### 01) WAP to check whether the given number is positive or negative."
   ]
  },
  {
   "cell_type": "code",
   "execution_count": 3,
   "metadata": {},
   "outputs": [
    {
     "name": "stdout",
     "output_type": "stream",
     "text": [
      "Enter number :  5\n",
      "positive\n"
     ]
    }
   ],
   "source": [
    "n = int(input(\"Enter number :  \"))\n",
    "if n>0 :\n",
    "    print(\"positive\")\n",
    "else : \n",
    "    print(\"negative\")"
   ]
  },
  {
   "cell_type": "markdown",
   "metadata": {},
   "source": [
    "### 02) WAP to check whether the given number is odd or even"
   ]
  },
  {
   "cell_type": "code",
   "execution_count": 4,
   "metadata": {},
   "outputs": [
    {
     "name": "stdout",
     "output_type": "stream",
     "text": [
      "Enter number :  5\n",
      "odd\n"
     ]
    }
   ],
   "source": [
    "n = int(input(\"Enter number :  \"))\n",
    "if n%2==0 :\n",
    "    print(\"Even\")\n",
    "else :\n",
    "    print(\"odd\")"
   ]
  },
  {
   "cell_type": "markdown",
   "metadata": {},
   "source": [
    "### 03) WAP to find out largest number from given two numbers using simple if and ternary operator."
   ]
  },
  {
   "cell_type": "code",
   "execution_count": 5,
   "metadata": {},
   "outputs": [
    {
     "name": "stdout",
     "output_type": "stream",
     "text": [
      "enter 1st number :  4\n",
      "enter 2nd number :  5\n",
      "b is large\n"
     ]
    }
   ],
   "source": [
    "a = int(input(\"enter 1st number :  \"))\n",
    "b = int(input(\"enter 2nd number :  \"))\n",
    "print(\"a is large\") if a>b else print(\"b is large\")"
   ]
  },
  {
   "cell_type": "markdown",
   "metadata": {},
   "source": [
    "### 04) WAP to find out largest number from given three numbers."
   ]
  },
  {
   "cell_type": "code",
   "execution_count": 10,
   "metadata": {},
   "outputs": [
    {
     "name": "stdout",
     "output_type": "stream",
     "text": [
      "enter 1st number :  4\n",
      "enter 2nd number :  5\n",
      "enter 3rd number :  7\n",
      "7 is large\n"
     ]
    }
   ],
   "source": [
    "a = int(input(\"enter 1st number :  \"))\n",
    "b = int(input(\"enter 2nd number :  \"))\n",
    "c = int(input(\"enter 3rd number :  \"))\n",
    "if a>b:\n",
    "    if a>c:\n",
    "        print(f\"{a} is large\")\n",
    "    else:\n",
    "        print(f\"{c} is large\")\n",
    "else :\n",
    "    if b>c:\n",
    "        print(f\"{b} is large\")\n",
    "    else:\n",
    "        print(f\"{c} is large\")\n"
   ]
  },
  {
   "cell_type": "markdown",
   "metadata": {},
   "source": [
    "### 05) WAP to check whether the given year is leap year or not.\n",
    "[If a year can be divisible by 4 but not divisible by 100 then it is leap year but if it is divisible by 400 then it is leap year]"
   ]
  },
  {
   "cell_type": "code",
   "execution_count": 11,
   "metadata": {},
   "outputs": [
    {
     "name": "stdout",
     "output_type": "stream",
     "text": [
      "Enter year :  2100\n",
      "Not leap year\n"
     ]
    }
   ],
   "source": [
    "year = int(input(\"Enter year :  \"))\n",
    "print(\"Leap year\")if (year%4==0 and year%100!=0) or year%400==0 else print(\"Not leap year\")"
   ]
  },
  {
   "cell_type": "markdown",
   "metadata": {},
   "source": [
    "### 06) WAP in python to display the name of the day according to the number given by the user"
   ]
  },
  {
   "cell_type": "code",
   "execution_count": 14,
   "metadata": {},
   "outputs": [
    {
     "name": "stdout",
     "output_type": "stream",
     "text": [
      "Enter number6\n",
      "Saturday\n"
     ]
    }
   ],
   "source": [
    "n = int(input(\"Enter number\"))\n",
    "if n==1 :\n",
    "    print(\"Monday\")\n",
    "elif n==2 :\n",
    "    print(\"Tuesday\")\n",
    "elif n==3 :\n",
    "    print(\"Wednesday\")\n",
    "elif n==4 :\n",
    "    print(\"Thursday\")\n",
    "elif n==5 :\n",
    "    print(\"Friday\")\n",
    "elif n==6 :\n",
    "    print(\"Saturday\")\n",
    "elif n==7 :\n",
    "    print(\"Sunday\")\n",
    "else : \n",
    "    print(\"Enter number only between 1 to 7\")"
   ]
  },
  {
   "cell_type": "markdown",
   "metadata": {},
   "source": [
    "### 07) WAP to implement simple calculator which performs (add,sub,mul,div) of two no. based on user input."
   ]
  },
  {
   "cell_type": "code",
   "execution_count": 15,
   "metadata": {},
   "outputs": [
    {
     "name": "stdout",
     "output_type": "stream",
     "text": [
      "Enter num1 :  4\n",
      "Enter num2 :  5\n",
      "Enter 1 for addition\n",
      " Enter 2 for substraction\n",
      " Enter 3 for Multiplication\n",
      " Enter 4 for divison2\n",
      "sub =  -1\n"
     ]
    }
   ],
   "source": [
    "a = int(input(\"Enter num1 :  \"))\n",
    "b = int(input(\"Enter num2 :  \"))\n",
    "n = int(input(\"Enter 1 for addition\\n Enter 2 for substraction\\n Enter 3 for Multiplication\\n Enter 4 for divison\"))\n",
    "if n==1 :\n",
    "    add = a+b\n",
    "    print(\"sum = \",add)\n",
    "elif n==2 :\n",
    "    sub = a-b\n",
    "    print(\"sub = \",sub)\n",
    "elif n==3 :\n",
    "    mul = a*b\n",
    "    print(\"mul = \",mul)\n",
    "elif n==4 :\n",
    "    div = a/b\n",
    "    print(\"div = \",div)\n",
    "else :\n",
    "    print(\"Invalid Number\")\n",
    "    \n",
    "    "
   ]
  },
  {
   "cell_type": "markdown",
   "metadata": {},
   "source": [
    "### 08) WAP to calculate electricity bill based on following criteria. Which takes the unit from the user.\n",
    "a. First 1 to 50 units – Rs. 2.60/unit</br>\n",
    "b. Next 50 to 100 units – Rs. 3.25/unit</br>\n",
    "c. Next 100 to 200 units – Rs. 5.26/unit</br>\n",
    "d. above 200 units – Rs. 8.45/unit"
   ]
  },
  {
   "cell_type": "code",
   "execution_count": 6,
   "metadata": {},
   "outputs": [
    {
     "name": "stdout",
     "output_type": "stream",
     "text": [
      "Enter unit = 50\n",
      "Total bill is = 130.0\n"
     ]
    }
   ],
   "source": [
    "unit = int(input(\"Enter unit = \"))\n",
    "if(unit > 0 and unit <= 50):\n",
    "    ans = unit * 2.60\n",
    "elif(unit > 50 and unit <= 100):\n",
    "    ans = (50 * 2.60) + ((unit - 50) * 3.25)\n",
    "elif(unit > 100 and unit <= 200):\n",
    "    ans = (50 * 2.60) + (50 * 3.25) + ((unit - 100) * 5.26)\n",
    "else:\n",
    "    ans = (50 * 2.60) + (50 * 3.25) + (100 * 5.26) + ((unit - 200) * 8.45)\n",
    "print(f\"Total bill is = {ans}\")"
   ]
  },
  {
   "cell_type": "markdown",
   "metadata": {},
   "source": [
    "### 01) WAP to read marks of five subjects. Calculate percentage and print class accordingly. \n",
    "Fail below 35 </br>\n",
    "Pass Class between 35 to 45 </br>\n",
    "Second Class</br>\n",
    "between 45 to 60</br>\n",
    "First Class between 60 to 70</br> \n",
    "Distinction if more than 70"
   ]
  },
  {
   "cell_type": "code",
   "execution_count": 16,
   "metadata": {},
   "outputs": [
    {
     "name": "stdout",
     "output_type": "stream",
     "text": [
      "Enter maths marks :  100\n",
      "Enter phy marks :  100\n",
      "Enter Chemistry mark :  50\n",
      "Distinction\n"
     ]
    }
   ],
   "source": [
    "maths = int(input(\"Enter maths marks :  \"))\n",
    "phy = int((input(\"Enter phy marks :  \")))\n",
    "chem = int(input(\"Enter Chemistry mark :  \"))\n",
    "\n",
    "per = (maths+phy+chem)/3\n",
    "\n",
    "if per<35 :\n",
    "    print(\"Fail\")\n",
    "elif per>= 35 and per<=45 :\n",
    "    print(\"Pass\")\n",
    "elif per >= 45 and per<=60 :\n",
    "    print(\"Second class\")\n",
    "elif per>=60 and per<=70 :\n",
    "    print(\"First class\")\n",
    "else :\n",
    "    print(\"Distinction\")"
   ]
  },
  {
   "cell_type": "markdown",
   "metadata": {},
   "source": [
    "### 02) WAP to find out the Maximum and Minimum number from given 4 numbers."
   ]
  },
  {
   "cell_type": "code",
   "execution_count": 2,
   "metadata": {},
   "outputs": [
    {
     "name": "stdout",
     "output_type": "stream",
     "text": [
      "enter 1st number :  45\n",
      "enter 2nd number :  78\n",
      "enter 3rd number :  55\n",
      "Enter 4th number :  222\n",
      "222 is large\n"
     ]
    }
   ],
   "source": [
    "a = int(input(\"enter 1st number :  \"))\n",
    "b = int(input(\"enter 2nd number :  \"))\n",
    "c = int(input(\"enter 3rd number :  \"))\n",
    "d = int(input(\"Enter 4th number :  \"))\n",
    "\n",
    "if a>b :\n",
    "    if a>c :\n",
    "        if a>d :\n",
    "            print(f\"{a} is large\")\n",
    "        else : \n",
    "            print(f\"{d} is large\")\n",
    "    else :\n",
    "        if b>c :\n",
    "            print(f\"{b} is large\")\n",
    "        else :\n",
    "            print(f\"{c} is large\")\n",
    "else :\n",
    "    if b>c :\n",
    "        if b>d :\n",
    "            print(f\"{b} is large\")\n",
    "        else :\n",
    "            print(f\"{d} is large\")\n",
    "    else :\n",
    "        if c>d :\n",
    "            print(f\"{c} is large\")\n",
    "        else :\n",
    "            print(f\"{d} is large\")"
   ]
  },
  {
   "cell_type": "markdown",
   "metadata": {},
   "source": [
    "### 03) WAP to input an integer number and check the last digit of number is even or odd."
   ]
  },
  {
   "cell_type": "code",
   "execution_count": 18,
   "metadata": {},
   "outputs": [
    {
     "name": "stdout",
     "output_type": "stream",
     "text": [
      "Enter number :  20\n",
      "Even\n"
     ]
    }
   ],
   "source": [
    "n = int(input(\"Enter number :  \"))\n",
    "ld = n/10\n",
    "if ld%2 == 0 :\n",
    "    print(\"Even\")\n",
    "else :\n",
    "    print(\"Odd\")"
   ]
  },
  {
   "cell_type": "markdown",
   "metadata": {},
   "source": [
    "### 04) WAP to determine the roots of the equation ax2+bx+c=0."
   ]
  },
  {
   "cell_type": "code",
   "execution_count": 24,
   "metadata": {},
   "outputs": [
    {
     "name": "stdout",
     "output_type": "stream",
     "text": [
      "enter 1st number :  2\n",
      "enter 2nd number :  3\n",
      "enter 3rd number :  6\n",
      "imaginary root\n",
      "answer is =  (-0.7499999999999999+1.5612494995995996j)\n"
     ]
    }
   ],
   "source": [
    "a = int(input(\"enter 1st number :  \"))\n",
    "b = int(input(\"enter 2nd number :  \"))\n",
    "c = int(input(\"enter 3rd number :  \"))\n",
    "\n",
    "D = b**2-(4*a*c)\n",
    "\n",
    "if D==0 :\n",
    "    print(\"same root\")\n",
    "elif D>=0 :\n",
    "    print(\"real root\")\n",
    "else :\n",
    "    print(\"imaginary root\")\n",
    "\n",
    "x = (-b + D**0.5)/(2*a)\n",
    "\n",
    "print(\"answer is = \",x)"
   ]
  }
 ],
 "metadata": {
  "kernelspec": {
   "display_name": "Python 3 (ipykernel)",
   "language": "python",
   "name": "python3"
  },
  "language_info": {
   "codemirror_mode": {
    "name": "ipython",
    "version": 3
   },
   "file_extension": ".py",
   "mimetype": "text/x-python",
   "name": "python",
   "nbconvert_exporter": "python",
   "pygments_lexer": "ipython3",
   "version": "3.11.5"
  }
 },
 "nbformat": 4,
 "nbformat_minor": 4
}
