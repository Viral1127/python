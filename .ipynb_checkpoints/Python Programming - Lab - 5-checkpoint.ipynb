{
 "cells": [
  {
   "cell_type": "markdown",
   "metadata": {},
   "source": [
    "\n",
    "<a href='https://www.darshan.ac.in/'> <img src='https://www.darshan.ac.in/Content/media/DU_Logo.svg' width=\"250\" height=\"300\"/></a>\n",
    "<pre>\n",
    "<center><b><h1>Python Programming - 2101CS405</b></center>\n",
    "<center><b><h1>Lab - 5</b></center>    \n",
    "<pre>"
   ]
  },
  {
   "cell_type": "markdown",
   "metadata": {},
   "source": [
    "# list"
   ]
  },
  {
   "cell_type": "markdown",
   "metadata": {},
   "source": [
    "### 01) WAP to find sum of all the elements in List."
   ]
  },
  {
   "cell_type": "code",
   "execution_count": 1,
   "metadata": {},
   "outputs": [
    {
     "name": "stdout",
     "output_type": "stream",
     "text": [
      "Enter number of elements5\n",
      "list member2\n",
      "list member3\n",
      "list member4\n",
      "list member5\n",
      "list member6\n",
      "20\n"
     ]
    }
   ],
   "source": [
    "list = []\n",
    "n = int(input(\"Enter number of elements\"))\n",
    "sum = 0 \n",
    "for i in range(0,n):\n",
    "    e = int(input(\"list member\"))\n",
    "    sum = sum+e\n",
    "    list.append(e)\n",
    "print(sum)"
   ]
  },
  {
   "cell_type": "markdown",
   "metadata": {},
   "source": [
    "### 02) WAP to find largest element in a List."
   ]
  },
  {
   "cell_type": "code",
   "execution_count": 2,
   "metadata": {},
   "outputs": [
    {
     "name": "stdout",
     "output_type": "stream",
     "text": [
      "Enter number of elements :5\n",
      "Enter members of list121\n",
      "Enter members of list5\n",
      "Enter members of list6\n",
      "Enter members of list5656\n",
      "Enter members of list53\n",
      "5656\n"
     ]
    }
   ],
   "source": [
    "list = []\n",
    "n = int(input(\"Enter number of elements :\"))\n",
    "max=0\n",
    "for i in range(0,n):\n",
    "    e = int(input(\"Enter members of list\"))\n",
    "    if(e>max):\n",
    "        max = e\n",
    "    list.append(e)\n",
    "print(max)"
   ]
  },
  {
   "cell_type": "markdown",
   "metadata": {},
   "source": [
    "### 03) WAP to split the List into two and append the first part to the end."
   ]
  },
  {
   "cell_type": "code",
   "execution_count": 2,
   "metadata": {},
   "outputs": [
    {
     "name": "stdout",
     "output_type": "stream",
     "text": [
      "[1, 2]\n",
      "[3, 4, 5]\n"
     ]
    }
   ],
   "source": [
    "list = []\n",
    "n = int(input(\"ENter number\"))\n",
    "for i in range(0,n):\n",
    "    e = int(input(\"enter list member\"))\n",
    "    list.append(e)\n",
    "l1=[]\n",
    "l2=[]\n",
    "for i in range(0,n):\n",
    "    if(i<n//2):\n",
    "        l1.append(list[i])\n",
    "    else:\n",
    "        l2.append(list[i])\n",
    "print(l1)\n",
    "print(l2)"
   ]
  },
  {
   "cell_type": "markdown",
   "metadata": {},
   "source": [
    "### 04) WAP to interchange first and last elements in list entered by a user."
   ]
  },
  {
   "cell_type": "code",
   "execution_count": 1,
   "metadata": {},
   "outputs": [
    {
     "name": "stdout",
     "output_type": "stream",
     "text": [
      "Enter number of elements3\n",
      "ENter list elements : 2\n",
      "ENter list elements : 3\n",
      "ENter list elements : 4\n",
      "[4, 3, 2]\n"
     ]
    }
   ],
   "source": [
    "list = []\n",
    "n = int(input(\"Enter number of elements\"))\n",
    "for i in range(0,n):\n",
    "    e = int(input(\"ENter list elements : \"))\n",
    "    list.append(e)\n",
    "temp=list[0]\n",
    "list[0]=list[n-1]\n",
    "list[n-1]=temp\n",
    "print(list)\n",
    "\n"
   ]
  },
  {
   "cell_type": "markdown",
   "metadata": {},
   "source": [
    "### 05) WAP to interchange the elements on two positions entered by a user."
   ]
  },
  {
   "cell_type": "code",
   "execution_count": 2,
   "metadata": {},
   "outputs": [
    {
     "name": "stdout",
     "output_type": "stream",
     "text": [
      "Enter number3\n",
      "ENter elements of list : 5\n",
      "ENter elements of list : 6\n",
      "ENter elements of list : 7\n",
      "Enter staring position1\n",
      "Enter staring position3\n",
      "[7, 6, 5]\n"
     ]
    }
   ],
   "source": [
    "lst=[]\n",
    "n = int(input(\"Enter number\"))\n",
    "for i in range(0,n):\n",
    "    e = int(input(\"ENter elements of list : \"))\n",
    "    lst.append(e)\n",
    "a = int(input(\"Enter staring position\"))\n",
    "b = int(input(\"Enter staring position\"))\n",
    "temp = lst[a-1]\n",
    "lst[a-1]=lst[b-1]\n",
    "lst[b-1]=temp\n",
    "print(lst)"
   ]
  },
  {
   "cell_type": "markdown",
   "metadata": {},
   "source": [
    "### 06) WAP to reverses the list entered by user."
   ]
  },
  {
   "cell_type": "code",
   "execution_count": 6,
   "metadata": {},
   "outputs": [
    {
     "name": "stdout",
     "output_type": "stream",
     "text": [
      "ENter number of elements3\n",
      "ENter elements of list : 12\n",
      "ENter elements of list : 13\n",
      "ENter elements of list : 14\n",
      "[12, 13, 14]\n",
      "[14, 13, 12]\n"
     ]
    }
   ],
   "source": [
    "lst = []\n",
    "n=int(input(\"ENter number of elements\"))\n",
    "for i in range(0,n):\n",
    "    e=int(input(\"ENter elements of list : \"))\n",
    "    lst.append(e)\n",
    "print(lst)\n",
    "lst.reverse()\n",
    "print(lst)"
   ]
  },
  {
   "cell_type": "markdown",
   "metadata": {},
   "source": [
    "### 07) Python program to remove multiple elements from a list using list comprehension"
   ]
  },
  {
   "cell_type": "code",
   "execution_count": 11,
   "metadata": {},
   "outputs": [
    {
     "ename": "KeyboardInterrupt",
     "evalue": "Interrupted by user",
     "output_type": "error",
     "traceback": [
      "\u001b[1;31m---------------------------------------------------------------------------\u001b[0m",
      "\u001b[1;31mKeyboardInterrupt\u001b[0m                         Traceback (most recent call last)",
      "Cell \u001b[1;32mIn[11], line 2\u001b[0m\n\u001b[0;32m      1\u001b[0m lst \u001b[38;5;241m=\u001b[39m []\n\u001b[1;32m----> 2\u001b[0m n\u001b[38;5;241m=\u001b[39m\u001b[38;5;28mint\u001b[39m(\u001b[38;5;28minput\u001b[39m(\u001b[38;5;124m\"\u001b[39m\u001b[38;5;124mENter number of elements\u001b[39m\u001b[38;5;124m\"\u001b[39m))\n\u001b[0;32m      3\u001b[0m \u001b[38;5;28;01mfor\u001b[39;00m i \u001b[38;5;129;01min\u001b[39;00m \u001b[38;5;28mrange\u001b[39m(\u001b[38;5;241m0\u001b[39m,n):\n\u001b[0;32m      4\u001b[0m     e\u001b[38;5;241m=\u001b[39m\u001b[38;5;28mint\u001b[39m(\u001b[38;5;28minput\u001b[39m(\u001b[38;5;124m\"\u001b[39m\u001b[38;5;124mENter elements of list : \u001b[39m\u001b[38;5;124m\"\u001b[39m))\n",
      "File \u001b[1;32m~\\anaconda3\\Lib\\site-packages\\ipykernel\\kernelbase.py:1202\u001b[0m, in \u001b[0;36mKernel.raw_input\u001b[1;34m(self, prompt)\u001b[0m\n\u001b[0;32m   1200\u001b[0m     msg \u001b[38;5;241m=\u001b[39m \u001b[38;5;124m\"\u001b[39m\u001b[38;5;124mraw_input was called, but this frontend does not support input requests.\u001b[39m\u001b[38;5;124m\"\u001b[39m\n\u001b[0;32m   1201\u001b[0m     \u001b[38;5;28;01mraise\u001b[39;00m StdinNotImplementedError(msg)\n\u001b[1;32m-> 1202\u001b[0m \u001b[38;5;28;01mreturn\u001b[39;00m \u001b[38;5;28mself\u001b[39m\u001b[38;5;241m.\u001b[39m_input_request(\n\u001b[0;32m   1203\u001b[0m     \u001b[38;5;28mstr\u001b[39m(prompt),\n\u001b[0;32m   1204\u001b[0m     \u001b[38;5;28mself\u001b[39m\u001b[38;5;241m.\u001b[39m_parent_ident[\u001b[38;5;124m\"\u001b[39m\u001b[38;5;124mshell\u001b[39m\u001b[38;5;124m\"\u001b[39m],\n\u001b[0;32m   1205\u001b[0m     \u001b[38;5;28mself\u001b[39m\u001b[38;5;241m.\u001b[39mget_parent(\u001b[38;5;124m\"\u001b[39m\u001b[38;5;124mshell\u001b[39m\u001b[38;5;124m\"\u001b[39m),\n\u001b[0;32m   1206\u001b[0m     password\u001b[38;5;241m=\u001b[39m\u001b[38;5;28;01mFalse\u001b[39;00m,\n\u001b[0;32m   1207\u001b[0m )\n",
      "File \u001b[1;32m~\\anaconda3\\Lib\\site-packages\\ipykernel\\kernelbase.py:1245\u001b[0m, in \u001b[0;36mKernel._input_request\u001b[1;34m(self, prompt, ident, parent, password)\u001b[0m\n\u001b[0;32m   1242\u001b[0m \u001b[38;5;28;01mexcept\u001b[39;00m \u001b[38;5;167;01mKeyboardInterrupt\u001b[39;00m:\n\u001b[0;32m   1243\u001b[0m     \u001b[38;5;66;03m# re-raise KeyboardInterrupt, to truncate traceback\u001b[39;00m\n\u001b[0;32m   1244\u001b[0m     msg \u001b[38;5;241m=\u001b[39m \u001b[38;5;124m\"\u001b[39m\u001b[38;5;124mInterrupted by user\u001b[39m\u001b[38;5;124m\"\u001b[39m\n\u001b[1;32m-> 1245\u001b[0m     \u001b[38;5;28;01mraise\u001b[39;00m \u001b[38;5;167;01mKeyboardInterrupt\u001b[39;00m(msg) \u001b[38;5;28;01mfrom\u001b[39;00m \u001b[38;5;28;01mNone\u001b[39;00m\n\u001b[0;32m   1246\u001b[0m \u001b[38;5;28;01mexcept\u001b[39;00m \u001b[38;5;167;01mException\u001b[39;00m:\n\u001b[0;32m   1247\u001b[0m     \u001b[38;5;28mself\u001b[39m\u001b[38;5;241m.\u001b[39mlog\u001b[38;5;241m.\u001b[39mwarning(\u001b[38;5;124m\"\u001b[39m\u001b[38;5;124mInvalid Message:\u001b[39m\u001b[38;5;124m\"\u001b[39m, exc_info\u001b[38;5;241m=\u001b[39m\u001b[38;5;28;01mTrue\u001b[39;00m)\n",
      "\u001b[1;31mKeyboardInterrupt\u001b[0m: Interrupted by user"
     ]
    }
   ],
   "source": [
    "lst = []\n",
    "n=int(input(\"ENter number of elements\"))\n",
    "for i in range(0,n):\n",
    "    e=int(input(\"ENter elements of list : \"))\n",
    "    lst.append(e)\n",
    "a = int(input(\"Enter element which u wanna delete:\"))\n",
    "ans=[i for i in lst if i%a!=0]\n",
    "print(ans)\n"
   ]
  },
  {
   "cell_type": "markdown",
   "metadata": {},
   "source": [
    "### 08) Create a list from the specified start to end index of another list."
   ]
  },
  {
   "cell_type": "code",
   "execution_count": 1,
   "metadata": {},
   "outputs": [
    {
     "name": "stdout",
     "output_type": "stream",
     "text": [
      "Enter number of elements : 3\n",
      "1\n",
      "2\n",
      "3\n",
      "Enter start index 2\n",
      "Enter end index 3\n",
      "[3]\n"
     ]
    }
   ],
   "source": [
    "\n",
    " lst = []\n",
    " n = int(input(\"Enter number of elements : \"))\n",
    " for i in range(0, n):\n",
    "     e = int(input())\n",
    "     lst.append(e)\n",
    " a=int(input(\"Enter start index \"))\n",
    " b=int(input(\"Enter end index \"))\n",
    " i=a\n",
    " ans=lst[a:b+1]\n",
    "    \n",
    "    \n",
    " print(ans)"
   ]
  },
  {
   "cell_type": "markdown",
   "metadata": {},
   "source": [
    "### 09) Input comma separated elements, convert into list and print."
   ]
  },
  {
   "cell_type": "code",
   "execution_count": 2,
   "metadata": {},
   "outputs": [
    {
     "name": "stdout",
     "output_type": "stream",
     "text": [
      "Enter string : vc,abc,xcv\n",
      "['vc', 'abc', 'xcv']\n"
     ]
    }
   ],
   "source": [
    "list=[]\n",
    "str=input(\"Enter string : \")\n",
    "str = str.split(\",\")\n",
    "for i in str:\n",
    "    list.append(i)\n",
    "print(list)"
   ]
  },
  {
   "cell_type": "markdown",
   "metadata": {},
   "source": [
    "### 01) WAP to count Even and Odd numbers in a List."
   ]
  },
  {
   "cell_type": "code",
   "execution_count": 3,
   "metadata": {},
   "outputs": [
    {
     "name": "stdout",
     "output_type": "stream",
     "text": [
      "enter number of elements : 3\n",
      "enter elements:1\n",
      "enter elements:2\n",
      "enter elements:3\n",
      "[1, 2, 3] 2 1\n"
     ]
    }
   ],
   "source": [
    "even=0\n",
    "odd=0\n",
    "lst=[]\n",
    "n=int(input(\"enter number of elements : \"))\n",
    "for i in range(0,n):\n",
    "    e = int(input(\"enter elements:\"))\n",
    "    if(e%2==0):\n",
    "        even+=1\n",
    "    else:\n",
    "        odd+=1\n",
    "    lst.append(e)\n",
    "print(lst,odd,even)"
   ]
  },
  {
   "cell_type": "markdown",
   "metadata": {},
   "source": [
    "### 02) Python program to find N largest and smallest elements from the list"
   ]
  },
  {
   "cell_type": "code",
   "execution_count": null,
   "metadata": {},
   "outputs": [],
   "source": []
  },
  {
   "cell_type": "markdown",
   "metadata": {},
   "source": [
    "### 03) WAP to print duplicates from a list of integers"
   ]
  },
  {
   "cell_type": "code",
   "execution_count": null,
   "metadata": {},
   "outputs": [],
   "source": []
  }
 ],
 "metadata": {
  "kernelspec": {
   "display_name": "Python 3 (ipykernel)",
   "language": "python",
   "name": "python3"
  },
  "language_info": {
   "codemirror_mode": {
    "name": "ipython",
    "version": 3
   },
   "file_extension": ".py",
   "mimetype": "text/x-python",
   "name": "python",
   "nbconvert_exporter": "python",
   "pygments_lexer": "ipython3",
   "version": "3.11.5"
  }
 },
 "nbformat": 4,
 "nbformat_minor": 4
}
