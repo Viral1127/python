{
 "cells": [
  {
   "cell_type": "markdown",
   "metadata": {
    "id": "sJl9GIC-LMQr"
   },
   "source": [
    "<a href='https://www.darshan.ac.in/'> <img src='https://www.darshan.ac.in/Content/media/DU_Logo.svg' width=\"250\" height=\"300\"/></a>\n",
    "<pre>\n",
    "<center><b><h1>Python Programming - 2101CS405</b></center>\n",
    "<center><b><h1>Lab - 10</b></center>    \n",
    "<pre>\n",
    "<h1>Name : Viral chauhan</h1>\n",
    "<h2>Enrollment : 22010101027</h2>\n",
    "<h2>Roll No. : 184  Batch : A4</h2>"
   ]
  },
  {
   "cell_type": "markdown",
   "metadata": {
    "id": "AM78boBeLMQw"
   },
   "source": [
    "# Modules"
   ]
  },
  {
   "cell_type": "markdown",
   "metadata": {
    "id": "R0c-Js2uLMQw"
   },
   "source": [
    "# A"
   ]
  },
  {
   "cell_type": "markdown",
   "metadata": {
    "id": "2P1QtyspLMQx"
   },
   "source": [
    "### 01) WAP to create Calculator module which defines functions like add, sub,mul and div. create another file that uses the Calculator module."
   ]
  },
  {
   "cell_type": "code",
   "execution_count": 4,
   "metadata": {
    "id": "c1FSkhnOLMQx"
   },
   "outputs": [
    {
     "name": "stdout",
     "output_type": "stream",
     "text": [
      "Enter first number 6\n",
      "Enter second number 3\n",
      "Enter operation you want to perform /\n",
      "2.0\n"
     ]
    }
   ],
   "source": [
    "import Calculator as cl\n",
    "def mycal(a,b,opt):\n",
    "    return cl.calculate(a,b,opt)\n",
    "a=int(input(\"Enter first number \"))\n",
    "b=int(input(\"Enter second number \"))\n",
    "opt=input(\"Enter operation you want to perform \")\n",
    "mycal(a,b,opt)"
   ]
  },
  {
   "cell_type": "markdown",
   "metadata": {
    "id": "5LwBPN6QLMQy"
   },
   "source": [
    "### 02) WAP to Pick a random character from a given String."
   ]
  },
  {
   "cell_type": "code",
   "execution_count": 9,
   "metadata": {
    "colab": {
     "base_uri": "https://localhost:8080/"
    },
    "id": "L5-vtBrNLMQy",
    "outputId": "ff21fb99-295d-4334-c64c-ae87b49a0d7e"
   },
   "outputs": [
    {
     "name": "stdout",
     "output_type": "stream",
     "text": [
      "Enter a string helloword\n",
      "Charcter: w   index:  5\n",
      "using choice method:  o\n"
     ]
    }
   ],
   "source": [
    "import random as rand\n",
    "\n",
    "mystr=input(\"Enter a string \")\n",
    "x= rand.randint(len(mystr)*-1,len(mystr)-1)\n",
    "print(\"Charcter:\",mystr[x],\"  index: \",x)\n",
    "print(\"using choice method: \",rand.choice(mystr))"
   ]
  },
  {
   "cell_type": "markdown",
   "metadata": {
    "id": "DnVUJQ7wLMQy"
   },
   "source": [
    "### 03) WAP to Pick a random element from a given list."
   ]
  },
  {
   "cell_type": "code",
   "execution_count": 10,
   "metadata": {
    "colab": {
     "base_uri": "https://localhost:8080/"
    },
    "id": "khm8bc7fLMQz",
    "outputId": "27728b47-ae1a-4bd1-f7de-1e2f0d662e93"
   },
   "outputs": [
    {
     "name": "stdout",
     "output_type": "stream",
     "text": [
      "Enter a length of the list10\n",
      "Enter a number 10\n",
      "Enter a number 9\n",
      "Enter a number 8\n",
      "Enter a number 7\n",
      "Enter a number 6\n",
      "Enter a number 5\n",
      "Enter a number 4\n",
      "Enter a number 3\n",
      "Enter a number 2\n",
      "Enter a number 1\n",
      "element: 1   index:  9\n",
      "using choice method:  4\n"
     ]
    }
   ],
   "source": [
    "import random as rand\n",
    "n = int(input(\"Enter a length of the list\"))\n",
    "mylist=[input(\"Enter a number \") for i in range(0,n)]\n",
    "x= rand.randint(0,len(mylist)-1)\n",
    "print(\"element:\",mylist[x],\"  index: \",x)\n",
    "print(\"using choice method: \",rand.choice(mylist))"
   ]
  },
  {
   "cell_type": "markdown",
   "metadata": {
    "id": "VWouUT84LMQz"
   },
   "source": [
    "### 04) WAP to demonstrate the use of the math module."
   ]
  },
  {
   "cell_type": "code",
   "execution_count": 11,
   "metadata": {
    "colab": {
     "base_uri": "https://localhost:8080/"
    },
    "id": "weRozH2TLMQz",
    "outputId": "fb51a06b-57f6-4d4f-9b72-91cc243e4150"
   },
   "outputs": [
    {
     "name": "stdout",
     "output_type": "stream",
     "text": [
      "3.141592653589793\n",
      "2.718281828459045\n",
      "3.1622776601683795\n",
      "-0.9880316240928618\n",
      "0.5253219888177297\n",
      "0.320040389379563\n",
      "2\n",
      "4\n",
      "120\n",
      "5.0\n",
      "8.0\n",
      "3.321928094887362\n",
      "2.302585092994046\n",
      "1.1752011936438014\n",
      "1.5430806348152437\n",
      "0.7615941559557649\n",
      "0.0\n",
      "0.881373587019543\n",
      "0.0\n"
     ]
    }
   ],
   "source": [
    "import math as mt\n",
    "print(mt.pi)\n",
    "print(mt.e)\n",
    "print(mt.sqrt(10))\n",
    "print(mt.sin(30))\n",
    "print(mt.cos(45))\n",
    "print(mt.tan(60))\n",
    "print(mt.floor(2.5))\n",
    "print(mt.ceil(3.2))\n",
    "print(mt.factorial(5))\n",
    "print(mt.fabs(-5))\n",
    "print(mt.pow(2,3))\n",
    "print(mt.log2(10))\n",
    "print(mt.log(10))\n",
    "print(mt.sinh(1))\n",
    "print(mt.cosh(1))\n",
    "print(mt.tanh(1))\n",
    "print(mt.atanh(0))\n",
    "print(mt.asinh(1))\n",
    "print(mt.acosh(1))"
   ]
  },
  {
   "cell_type": "markdown",
   "metadata": {
    "id": "i-C7uIMTLMQz"
   },
   "source": [
    "### 05) WAP to demonstrate the use of date time module."
   ]
  },
  {
   "cell_type": "code",
   "execution_count": 14,
   "metadata": {
    "colab": {
     "base_uri": "https://localhost:8080/"
    },
    "id": "uhuwrEcMLMQ0",
    "outputId": "f9649c16-262e-4b76-d359-7a0740c5c550"
   },
   "outputs": [
    {
     "name": "stdout",
     "output_type": "stream",
     "text": [
      "2024-02-20 08:45:37.305186\n",
      "2024-02-20\n",
      "08:45:37.305186\n",
      "2024\n",
      "2\n",
      "20\n",
      "8\n",
      "45\n",
      "37\n",
      "305186\n",
      "UTC\n",
      "1708398937.305186\n",
      "2024-02-20 03:15:37.306446\n"
     ]
    }
   ],
   "source": [
    "import datetime as dt\n",
    "x = dt.datetime.now()\n",
    "print(x)\n",
    "print(x.date())\n",
    "print(x.time())\n",
    "print(x.year)\n",
    "print(x.month)\n",
    "print(x.day)\n",
    "print(x.hour)\n",
    "print(x.minute)\n",
    "print(x.second)\n",
    "print(x.microsecond)\n",
    "print(dt.timezone.utc)\n",
    "print(x.timestamp())\n",
    "print(x.utcnow())\n",
    "\n"
   ]
  },
  {
   "cell_type": "markdown",
   "metadata": {
    "id": "cWSYdh9ILMQ0"
   },
   "source": [
    "# B"
   ]
  },
  {
   "cell_type": "markdown",
   "metadata": {
    "id": "X2D__KOCLMQ0"
   },
   "source": [
    "### 01) WAP to Roll dice in such a way that every time you get the same number."
   ]
  },
  {
   "cell_type": "code",
   "execution_count": 23,
   "metadata": {
    "colab": {
     "base_uri": "https://localhost:8080/"
    },
    "id": "q1b9fFILLMQ0",
    "outputId": "312474c6-28fe-4d34-c26b-1dc7e564dba5"
   },
   "outputs": [
    {
     "name": "stdout",
     "output_type": "stream",
     "text": [
      "Dice roll:  5\n",
      "Dice roll:  1\n",
      "Dice roll:  4\n"
     ]
    }
   ],
   "source": [
    "import random as rand\n",
    "rand.seed(6)\n",
    "print(\"Dice roll: \",rand.randint(1,6))\n",
    "print(\"Dice roll: \",rand.randint(1,6))\n",
    "print(\"Dice roll: \",rand.randint(1,6))"
   ]
  },
  {
   "cell_type": "markdown",
   "metadata": {
    "id": "J7HFPU1kLMQ0"
   },
   "source": [
    "### 02) WAP to generate 3 random integers between 100 and 999 which is divisible by 5."
   ]
  },
  {
   "cell_type": "code",
   "execution_count": 20,
   "metadata": {
    "colab": {
     "base_uri": "https://localhost:8080/"
    },
    "id": "IKP0ej0cLMQ0",
    "outputId": "fb2f01ce-1491-4465-efd7-b8f388f05091"
   },
   "outputs": [
    {
     "name": "stdout",
     "output_type": "stream",
     "text": [
      "200\n",
      "720\n",
      "430\n"
     ]
    }
   ],
   "source": [
    "import random as rand\n",
    "l1 = [i for i in range(100,1000) if i%5==0]\n",
    "print(rand.choice(l1))\n",
    "print(rand.choice(l1))\n",
    "print(rand.choice(l1))"
   ]
  },
  {
   "cell_type": "markdown",
   "metadata": {
    "id": "oOBh6wmxLMQ1"
   },
   "source": [
    "### 03) WAP to generate 100 random lottery tickets and pick two lucky tickets from it as a winner."
   ]
  },
  {
   "cell_type": "code",
   "execution_count": 25,
   "metadata": {
    "colab": {
     "base_uri": "https://localhost:8080/"
    },
    "id": "XQ5IdX0uLMQ1",
    "outputId": "6a94c6f0-54be-4ec3-9ff8-00a00d97d33e"
   },
   "outputs": [
    {
     "name": "stdout",
     "output_type": "stream",
     "text": [
      "Winning tickets : [ 374330 ,  138611 ]\n"
     ]
    }
   ],
   "source": [
    "import random as rand\n",
    "print(\"Winning tickets : [\",rand.randint(100000,999999),\", \",rand.randint(100000,999999),\"]\")"
   ]
  },
  {
   "cell_type": "markdown",
   "metadata": {
    "id": "wWZvsIWILMQ1"
   },
   "source": [
    "### 04) WAP to print current date and time in Python."
   ]
  },
  {
   "cell_type": "code",
   "execution_count": 26,
   "metadata": {
    "colab": {
     "base_uri": "https://localhost:8080/"
    },
    "id": "DeValrE4LMQ1",
    "outputId": "cf43df8e-87e7-4224-92ed-d33af4f36345"
   },
   "outputs": [
    {
     "name": "stdout",
     "output_type": "stream",
     "text": [
      "2024-02-20 09:03:24.975614\n"
     ]
    }
   ],
   "source": [
    "import datetime as dt\n",
    "print(dt.datetime.now())"
   ]
  },
  {
   "cell_type": "markdown",
   "metadata": {
    "id": "11XxWxOcLMQ1"
   },
   "source": [
    "### 05) Subtract a week (7 days) from a given date in Python."
   ]
  },
  {
   "cell_type": "code",
   "execution_count": 32,
   "metadata": {
    "colab": {
     "base_uri": "https://localhost:8080/"
    },
    "id": "gmQjNjabLMQ1",
    "outputId": "12b92e7a-111d-4fb3-e867-775375f6eff2"
   },
   "outputs": [
    {
     "name": "stdout",
     "output_type": "stream",
     "text": [
      "2024-02-20 09:10:19.305249\n",
      "2024-02-13 09:10:19.305249\n"
     ]
    }
   ],
   "source": [
    "from datetime import datetime, timedelta\n",
    "x = datetime.now()\n",
    "y = x - timedelta(days=7)\n",
    "print(x)\n",
    "print(y)"
   ]
  },
  {
   "cell_type": "markdown",
   "metadata": {
    "id": "5uQbBI5zLMQ1"
   },
   "source": [
    "### 06) WAP to Calculate number of days between two given dates."
   ]
  },
  {
   "cell_type": "code",
   "execution_count": 36,
   "metadata": {
    "colab": {
     "base_uri": "https://localhost:8080/"
    },
    "id": "KXJlw4MJLMQ2",
    "outputId": "1e50a4a9-b5fd-41d0-9ff9-ec141b828a11"
   },
   "outputs": [
    {
     "name": "stdout",
     "output_type": "stream",
     "text": [
      "difference is:  7 days, 0:00:00\n"
     ]
    }
   ],
   "source": [
    "from datetime import datetime, timedelta\n",
    "x = datetime.now()\n",
    "y = x + timedelta(days=7)\n",
    "\n",
    "print(\"difference is: \",y-x)\n"
   ]
  },
  {
   "cell_type": "markdown",
   "metadata": {
    "id": "tVV977eRLMQ2"
   },
   "source": [
    "### 07) WAP to Find the day of the week of a given date."
   ]
  },
  {
   "cell_type": "code",
   "execution_count": 44,
   "metadata": {
    "colab": {
     "base_uri": "https://localhost:8080/"
    },
    "id": "_DbHslkvLMQ2",
    "outputId": "787b3e7d-6a05-4852-f3aa-dbce678f22e0"
   },
   "outputs": [
    {
     "name": "stdout",
     "output_type": "stream",
     "text": [
      "on  2024-02-20  it was  Tue\n"
     ]
    }
   ],
   "source": [
    "from datetime import datetime\n",
    "\n",
    "x = datetime.now()\n",
    "print(\"on \",x.date(),\" it was \",x.strftime('%a'))"
   ]
  },
  {
   "cell_type": "markdown",
   "metadata": {},
   "source": [
    "## Extra Programs"
   ]
  },
  {
   "cell_type": "code",
   "execution_count": 27,
   "metadata": {},
   "outputs": [
    {
     "name": "stdout",
     "output_type": "stream",
     "text": [
      "Enter a stringPaRtH\n",
      "pArTh\n"
     ]
    }
   ],
   "source": [
    "mystr = input(\"Enter a string\")\n",
    "mystr2=\"\"\n",
    "for i in range(len(mystr)):\n",
    "    tempch = mystr[i]\n",
    "    if(ord(tempch)>= 65 and ord(tempch)<=91):\n",
    "        mystr2 = mystr2 + chr(97+(ord(tempch)-65))        \n",
    "    elif(ord(tempch)>= 97 and ord(tempch)<=122):\n",
    "        mystr2 = mystr2+ chr(65+(ord(tempch)-97))\n",
    "print(mystr2)"
   ]
  },
  {
   "cell_type": "code",
   "execution_count": 2,
   "metadata": {},
   "outputs": [
    {
     "name": "stdout",
     "output_type": "stream",
     "text": [
      "             1\n",
      "           1   1\n",
      "         1   2   1\n",
      "       1   3   3   1\n",
      "     1   4   6   4   1\n"
     ]
    }
   ],
   "source": [
    "n=5\n",
    "\n",
    "for i in range(0,5):\n",
    "    temp = str(11**i)\n",
    "    for j in range(1,n-i+1):\n",
    "        print(\"  \",end=\"\")\n",
    "    for l in temp:\n",
    "        print(\"  \",l,end=\"\")    \n",
    "    print()    "
   ]
  },
  {
   "cell_type": "code",
   "execution_count": null,
   "metadata": {},
   "outputs": [],
   "source": []
  }
 ],
 "metadata": {
  "colab": {
   "provenance": []
  },
  "kernelspec": {
   "display_name": "Python 3 (ipykernel)",
   "language": "python",
   "name": "python3"
  },
  "language_info": {
   "codemirror_mode": {
    "name": "ipython",
    "version": 3
   },
   "file_extension": ".py",
   "mimetype": "text/x-python",
   "name": "python",
   "nbconvert_exporter": "python",
   "pygments_lexer": "ipython3",
   "version": "3.11.5"
  }
 },
 "nbformat": 4,
 "nbformat_minor": 4
}
