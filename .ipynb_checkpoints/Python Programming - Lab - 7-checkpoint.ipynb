{
 "cells": [
  {
   "cell_type": "markdown",
   "metadata": {},
   "source": [
    "<a href='https://www.darshan.ac.in/'> <img src='https://www.darshan.ac.in/Content/media/DU_Logo.svg' width=\"250\" height=\"300\"/></a>\n",
    "<pre>\n",
    "<center><b><h1>Python Programming - 2101CS405</b></center>\n",
    "<center><b><h1>Lab - 7</b></center>    \n",
    "<pre>\n",
    "<h1>Name : Viral chauhan</h1>\n",
    "<h2>Enrollment : 22010101027</h2>\n",
    "<h2>Roll No. : 184  Batch : A4</h2>"
   ]
  },
  {
   "cell_type": "markdown",
   "metadata": {},
   "source": [
    "# Functions"
   ]
  },
  {
   "cell_type": "markdown",
   "metadata": {},
   "source": [
    "### 01) WAP to count simple interest using function."
   ]
  },
  {
   "cell_type": "code",
   "execution_count": 1,
   "metadata": {},
   "outputs": [
    {
     "name": "stdout",
     "output_type": "stream",
     "text": [
      "Enter principle amount : 100\n",
      "Enter rate of interest : 2\n",
      "Enter time in year : 1\n",
      "Your simple interest is  2.0\n"
     ]
    }
   ],
   "source": [
    "def simpleInterest(amount,rateOfInterest,time):\n",
    "    return ((amount*rateOfInterest*time)/100)\n",
    "\n",
    "p = float(input(\"Enter principle amount : \"))\n",
    "r = float(input(\"Enter rate of interest : \"))\n",
    "n = float(input(\"Enter time in year : \"))\n",
    "print(\"Your simple interest is \",simpleInterest(p,r,n))"
   ]
  },
  {
   "cell_type": "markdown",
   "metadata": {},
   "source": [
    "### 02) WAP that defines a function to add first n numbers."
   ]
  },
  {
   "cell_type": "code",
   "execution_count": 2,
   "metadata": {},
   "outputs": [
    {
     "name": "stdout",
     "output_type": "stream",
     "text": [
      "Enter a number : 5\n",
      "sum of first 5 number is 15.0\n"
     ]
    }
   ],
   "source": [
    "def sumOfFirstNNumbers(n):\n",
    "    return ((n/2)*(n+1))\n",
    "n = int(input(\"Enter a number : \"))\n",
    "print(f\"sum of first {n} number is {sumOfFirstNNumbers(n)}\")"
   ]
  },
  {
   "cell_type": "markdown",
   "metadata": {},
   "source": [
    "### 03) WAP to find maximum number from given two numbers using function."
   ]
  },
  {
   "cell_type": "code",
   "execution_count": 4,
   "metadata": {},
   "outputs": [
    {
     "name": "stdout",
     "output_type": "stream",
     "text": [
      "Enter a first number : 5\n",
      "Enter a second number : 4\n",
      "maximum of two numbers  5 and 4 is 5\n"
     ]
    }
   ],
   "source": [
    "def maximum(n1,n2):\n",
    "    return n1 if n1>n2 else n2\n",
    "n1 = int(input(\"Enter a first number : \"))\n",
    "n2 = int(input(\"Enter a second number : \"))\n",
    "\n",
    "print(f\"maximum of two numbers  {n1} and {n2} is {maximum(n1,n2)}\")"
   ]
  },
  {
   "cell_type": "markdown",
   "metadata": {},
   "source": [
    "### 04) WAP that defines a function which returns 1 if the number is prime otherwise return 0."
   ]
  },
  {
   "cell_type": "code",
   "execution_count": 13,
   "metadata": {},
   "outputs": [
    {
     "name": "stdout",
     "output_type": "stream",
     "text": [
      "Enter a number : 4\n",
      "0\n"
     ]
    }
   ],
   "source": [
    "def isPrime(n):\n",
    "    for i in range(2,int(n**0.5 + 1 )):\n",
    "        if(n%i == 0):\n",
    "            return 0\n",
    "        \n",
    "    return 1\n",
    "n = int(input(\"Enter a number : \"))\n",
    "print(isPrime(n))"
   ]
  },
  {
   "cell_type": "markdown",
   "metadata": {},
   "source": [
    "### 05) Write a function called primes that takes an integer value as an argument and returns a list of all prime numbers up to that number."
   ]
  },
  {
   "cell_type": "code",
   "execution_count": 14,
   "metadata": {},
   "outputs": [
    {
     "name": "stdout",
     "output_type": "stream",
     "text": [
      "Enter a number : 100\n",
      "[1, 2, 3, 5, 7, 11, 13, 17, 19, 23, 29, 31, 37, 41, 43, 47, 53, 59, 61, 67, 71, 73, 79, 83, 89, 97]\n"
     ]
    }
   ],
   "source": [
    "n = int(input(\"Enter a number : \"))\n",
    "primeList = []\n",
    "for i in range(1,n):\n",
    "    if(isPrime(i)):\n",
    "        primeList.append(i)\n",
    "print(primeList)"
   ]
  },
  {
   "cell_type": "markdown",
   "metadata": {},
   "source": [
    "### 06) WAP to generate Fibonacci series of N given number using function name fibbo. (e.g. 0 1 1 2 3 5 8...)"
   ]
  },
  {
   "cell_type": "code",
   "execution_count": 19,
   "metadata": {},
   "outputs": [
    {
     "name": "stdout",
     "output_type": "stream",
     "text": [
      "Enter a number : 5\n",
      "[0, 1, 1, 2, 3]\n"
     ]
    }
   ],
   "source": [
    "def fibbo(a1,a2,n):    \n",
    "    fibboSeries = []\n",
    "    fibboSeries.append(a1)\n",
    "    fibboSeries.append(a2)\n",
    "    for i in range(a1, n-2 if a1==0 else n-1):\n",
    "        fibboSeries.append(a1+a2)\n",
    "        a2 = a1 + a2\n",
    "        a1 = a2 - a1\n",
    "    return fibboSeries\n",
    "n = int(input(\"Enter a number : \"))\n",
    "print(fibbo(0,1,n))\n",
    "    "
   ]
  },
  {
   "cell_type": "markdown",
   "metadata": {},
   "source": [
    "### 07) WAP to find the factorial of a given number using recursion."
   ]
  },
  {
   "cell_type": "code",
   "execution_count": 21,
   "metadata": {},
   "outputs": [
    {
     "name": "stdout",
     "output_type": "stream",
     "text": [
      "Enter a number : 5\n",
      "120\n"
     ]
    }
   ],
   "source": [
    "def factorial(n):\n",
    "    if(n<=1):\n",
    "        return 1\n",
    "    return (n* factorial(n-1))\n",
    "n = int(input(\"Enter a number : \"))\n",
    "print(factorial(n))"
   ]
  },
  {
   "cell_type": "markdown",
   "metadata": {},
   "source": [
    "### 08) WAP to implement simple calculator using lamda function."
   ]
  },
  {
   "cell_type": "code",
   "execution_count": 27,
   "metadata": {},
   "outputs": [
    {
     "name": "stdout",
     "output_type": "stream",
     "text": [
      "Enter a first number : 5\n",
      "Enter a second number : 4\n",
      "Enter operation you want to perform (+,-,*,/,% for modulo)*\n",
      "20\n"
     ]
    }
   ],
   "source": [
    "def myCal(n1,n2,ch):\n",
    "    match ch :\n",
    "        case \"+\":\n",
    "            return (lambda n1,n2: n1+n2)(n1,n2)\n",
    "        case \"-\":\n",
    "            return (lambda n1,n2: n1-n2)(n1,n2)\n",
    "        case \"*\":\n",
    "            return (lambda n1,n2: n1*n2)(n1,n2)\n",
    "        case \"/\":\n",
    "            return (lambda n1,n2: n1/n2)(n1,n2)\n",
    "        case \"%\":\n",
    "            return (lambda n1,n2: n1%n2)(n1,n2)\n",
    "    return \"invalid operater\"\n",
    "n1 = int(input(\"Enter a first number : \"))\n",
    "n2 = int(input(\"Enter a second number : \"))\n",
    "\n",
    "ch = input(\"Enter operation you want to perform (+,-,*,/,% for modulo)\")\n",
    "print(myCal(n1,n2,ch))"
   ]
  },
  {
   "cell_type": "markdown",
   "metadata": {},
   "source": [
    "### 09)Write a Python program that accepts a hyphen-separated sequence of words as input and prints the words in a hyphen-separated sequence after sorting them alphabetically\n",
    "Sample Items : green-red-yellow-black-white <br>\n",
    "Expected Result : black-green-red-white-yellow"
   ]
  },
  {
   "cell_type": "code",
   "execution_count": 29,
   "metadata": {},
   "outputs": [
    {
     "name": "stdout",
     "output_type": "stream",
     "text": [
      "black-green-red-white-yellow\n"
     ]
    }
   ],
   "source": [
    "s = \"green-red-yellow-black-white\"\n",
    "mystr = s.split(\"-\")\n",
    "mystr.sort()\n",
    "s = (\"-\").join(mystr)\n",
    "print(s)"
   ]
  },
  {
   "cell_type": "markdown",
   "metadata": {},
   "source": [
    "### 10) Write a python program to implement all function arguments type\n",
    "Positional arguments <Br>\n",
    "Default argument <Br>\n",
    "Keyword arguments (named arguments) <Br>\n",
    "Arbitrary arguments (variable-length arguments args and kwargs)"
   ]
  },
  {
   "cell_type": "code",
   "execution_count": 31,
   "metadata": {},
   "outputs": [],
   "source": [
    "def myFun(n1,n2=1):\n",
    "    print(n1*n2)\n",
    "def myFun1(*n):\n",
    "    print(n)\n",
    "    "
   ]
  },
  {
   "cell_type": "code",
   "execution_count": 33,
   "metadata": {},
   "outputs": [
    {
     "name": "stdout",
     "output_type": "stream",
     "text": [
      "20\n",
      "4\n",
      "22\n",
      "(4, 5, 6, 7, 8, 9, 0)\n"
     ]
    }
   ],
   "source": [
    "myFun(n2=5,n1=4) # keyword\n",
    "myFun(4) # defual\n",
    "myFun(11,2) # positional\n",
    "myFun1(4,5,6,7,8,9,0) # arbitary"
   ]
  },
  {
   "cell_type": "markdown",
   "metadata": {},
   "source": [
    "### 01) WAP to calculate power of a number using recursion."
   ]
  },
  {
   "cell_type": "code",
   "execution_count": 34,
   "metadata": {},
   "outputs": [
    {
     "name": "stdout",
     "output_type": "stream",
     "text": [
      "Enter a base number : 2\n",
      "Enter a power number : 3\n",
      "8\n"
     ]
    }
   ],
   "source": [
    "def myRecPorwer(base,power):\n",
    "    if(power <=0):\n",
    "        return 1\n",
    "    else:\n",
    "        return base * myRecPorwer(base,power-1)\n",
    "         \n",
    "b = int(input(\"Enter a base number : \"))\n",
    "p = int(input(\"Enter a power number : \"))\n",
    "print(myRecPorwer(b,p))"
   ]
  },
  {
   "cell_type": "markdown",
   "metadata": {},
   "source": [
    "### 02) WAP to count digits of a number using recursion."
   ]
  },
  {
   "cell_type": "code",
   "execution_count": null,
   "metadata": {},
   "outputs": [],
   "source": []
  },
  {
   "cell_type": "markdown",
   "metadata": {},
   "source": [
    "### 03) WAP to reverse an integer number using recursion."
   ]
  },
  {
   "cell_type": "code",
   "execution_count": null,
   "metadata": {},
   "outputs": [],
   "source": []
  },
  {
   "cell_type": "markdown",
   "metadata": {},
   "source": [
    "### 04) WAP to convert decimal number into binary using recursion."
   ]
  },
  {
   "cell_type": "code",
   "execution_count": null,
   "metadata": {},
   "outputs": [],
   "source": []
  }
 ],
 "metadata": {
  "kernelspec": {
   "display_name": "Python 3 (ipykernel)",
   "language": "python",
   "name": "python3"
  },
  "language_info": {
   "codemirror_mode": {
    "name": "ipython",
    "version": 3
   },
   "file_extension": ".py",
   "mimetype": "text/x-python",
   "name": "python",
   "nbconvert_exporter": "python",
   "pygments_lexer": "ipython3",
   "version": "3.11.5"
  }
 },
 "nbformat": 4,
 "nbformat_minor": 4
}
