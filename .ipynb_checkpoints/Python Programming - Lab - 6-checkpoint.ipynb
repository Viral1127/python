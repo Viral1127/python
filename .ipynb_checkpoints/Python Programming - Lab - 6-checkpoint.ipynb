{
 "cells": [
  {
   "cell_type": "markdown",
   "metadata": {},
   "source": [
    "<a href='https://www.darshan.ac.in/'> <img src='https://www.darshan.ac.in/Content/media/DU_Logo.svg' width=\"250\" height=\"300\"/></a>\n",
    "<pre>\n",
    "<center><b><h1>Python Programming - 2101CS405</b></center>\n",
    "<center><b><h1>Lab - 6</b></center>    \n",
    "<pre>\n",
    "<h1>Name : Viral Chauhan</h1>\n",
    "<h2>Enrollment : 22010101027</h2>\n",
    "<h2>Roll No. : 184  Batch : A4</h2>"
   ]
  },
  {
   "cell_type": "markdown",
   "metadata": {},
   "source": [
    "# Tuples, dictionary, set"
   ]
  },
  {
   "cell_type": "markdown",
   "metadata": {},
   "source": [
    "# A"
   ]
  },
  {
   "cell_type": "markdown",
   "metadata": {},
   "source": [
    "### 01) WAP to sort python dictionary by key or value."
   ]
  },
  {
   "cell_type": "code",
   "execution_count": null,
   "metadata": {},
   "outputs": [
    {
     "name": "stdout",
     "output_type": "stream",
     "text": [
      "my keys : ['x', 'a', 'z', 'b', 'y']\n",
      "my Dict : {'x': 3, 'a': 5, 'z': 1, 'b': 4, 'y': 2}\n",
      "sorted Dict by keys : {'a': 5, 'b': 4, 'x': 3, 'y': 2, 'z': 1}\n",
      "helper = [1, 2, 3, 4, 5] : value = [3, 5, 1, 4, 2] \n",
      "sorted by value : {'z': 1, 'y': 2, 'x': 3, 'b': 4, 'a': 5}\n"
     ]
    }
   ],
   "source": [
    "myDict =  {}\n",
    "key = \"\"\n",
    "value = 0\n",
    "\n",
    "while(True):\n",
    "    key = input(\"Enter a key for dictionary or 'q' to exit : \")\n",
    "    if(key.lower() == \"q\"):\n",
    "        break\n",
    "    value = input(\"Enter a value for the key : \")\n",
    "    myDict[key] = value\n",
    "\n",
    "myKeys = list(myDict.keys())\n",
    "print(f\"my keys : {myKeys}\")\n",
    "myKeys.sort()\n",
    "print(f\"my Dict : {myDict}\")\n",
    "sortedDict = {i: myDict[i] for i in myKeys}\n",
    "print(f\"sorted Dict by keys : {sortedDict}\")\n",
    "\n",
    "myKeys = list(myDict.keys())\n",
    "value = list(myDict.values())\n",
    "helper = list(myDict.values())\n",
    "helper.sort()\n",
    "\n",
    "sortedDict2 = {}\n",
    "for i in helper:\n",
    "    myindex = value.index(i)\n",
    "    \n",
    "    sortedDict2[myKeys[myindex]]= i\n",
    "print(f\"sorted by value : {sortedDict2}\")\n",
    "\n",
    "    \n",
    "\n"
   ]
  },
  {
   "cell_type": "markdown",
   "metadata": {},
   "source": [
    "### 02) WAP to merge two dictionaries given by user."
   ]
  },
  {
   "cell_type": "code",
   "execution_count": null,
   "metadata": {},
   "outputs": [
    {
     "name": "stdout",
     "output_type": "stream",
     "text": [
      "Enter a key for dictionary or 'q' to exit : 1\n",
      "Enter a value for the key : a\n",
      "Enter a key for dictionary or 'q' to exit : 2\n",
      "Enter a value for the key : b\n",
      "Enter a key for dictionary or 'q' to exit : 3\n",
      "Enter a value for the key : c\n",
      "Enter a key for dictionary or 'q' to exit : q\n",
      ":::::: second dictionary ::::::\n",
      "Enter a key for dictionary or 'q' to exit : 4\n",
      "Enter a value for the key : d\n",
      "Enter a key for dictionary or 'q' to exit : 5\n",
      "Enter a value for the key : e\n",
      "Enter a key for dictionary or 'q' to exit : 6\n",
      "Enter a value for the key : f\n",
      "Enter a key for dictionary or 'q' to exit : q\n",
      "myDict  = {'1': 'a', '2': 'b', '3': 'c'} , myDict2 = {'4': 'd', '5': 'e', '6': 'f'}\n",
      "updated dict = {'1': 'a', '2': 'b', '3': 'c', '4': 'd', '5': 'e', '6': 'f'}\n"
     ]
    }
   ],
   "source": [
    "myDict = {}\n",
    "myDict2 = {}\n",
    "while(True):\n",
    "    key = input(\"Enter a key for dictionary or 'q' to exit : \")\n",
    "    if(key.lower() == \"q\"):\n",
    "        break\n",
    "    value = input(\"Enter a value for the key : \")\n",
    "    myDict[key] = value\n",
    "\n",
    "print(\":::::: second dictionary ::::::\")\n",
    "while(True):\n",
    "    key = input(\"Enter a key for dictionary or 'q' to exit : \")\n",
    "    if(key.lower() == \"q\"):\n",
    "        break\n",
    "    value = input(\"Enter a value for the key : \")\n",
    "    myDict2[key] = value\n",
    "\n",
    "print(f\"myDict  = {myDict} , myDict2 = {myDict2}\")\n",
    "myDict.update(myDict2)\n",
    "print(f\"updated dict = {myDict}\")"
   ]
  },
  {
   "cell_type": "markdown",
   "metadata": {},
   "source": [
    "### 03) WAP to find tuples that have all elements divisible by K from a list of tuples."
   ]
  },
  {
   "cell_type": "code",
   "execution_count": null,
   "metadata": {},
   "outputs": [
    {
     "name": "stdout",
     "output_type": "stream",
     "text": [
      "Enter a number3\n",
      "res = [(3, 6), (9, 12)]\n"
     ]
    }
   ],
   "source": [
    "mylist = [(1, 2, 3), (4, 5, 6), (7, 8, 9), (3, 6), (9, 12)]\n",
    "k = int(input(\"Enter a number\"))\n",
    "res  = list(filter(lambda sub:all(ele%k ==0 for ele in sub),mylist))\n",
    "print(f\"res = {res}\")"
   ]
  },
  {
   "cell_type": "markdown",
   "metadata": {},
   "source": [
    "### 04) WAP to find Tuples with positive elements in List of tuples."
   ]
  },
  {
   "cell_type": "code",
   "execution_count": null,
   "metadata": {},
   "outputs": [
    {
     "name": "stdout",
     "output_type": "stream",
     "text": [
      "res = [(1, 2, 3), (4, 5, 6), (7, 8, 9)]\n"
     ]
    }
   ],
   "source": [
    "mylist =[(1, 2, 3), (4, 5, 6), (7, 8, 9), (0, -1, -2), (-4, -5, -6), (4, -5, 6)]\n",
    "\n",
    "res  = list(filter(lambda sub:all(ele >=0 for ele in sub),mylist))\n",
    "print(f\"res = {res}\")"
   ]
  },
  {
   "cell_type": "markdown",
   "metadata": {},
   "source": [
    "### 05) WAP which perform union of two sets."
   ]
  },
  {
   "cell_type": "code",
   "execution_count": null,
   "metadata": {},
   "outputs": [
    {
     "name": "stdout",
     "output_type": "stream",
     "text": [
      "{1, 2, 3, 4, 5, 6, 7}\n"
     ]
    }
   ],
   "source": [
    "set1 = {1, 2, 3, 4, 5}\n",
    "set2 = {3, 4, 5, 6, 7}\n",
    "\n",
    "set1 = set1.union(set2)\n",
    "print(set1)"
   ]
  },
  {
   "cell_type": "markdown",
   "metadata": {},
   "source": [
    "# B"
   ]
  },
  {
   "cell_type": "markdown",
   "metadata": {},
   "source": [
    "### 01) WAP to convert binary tuple into integer."
   ]
  },
  {
   "cell_type": "code",
   "execution_count": null,
   "metadata": {},
   "outputs": [
    {
     "name": "stdout",
     "output_type": "stream",
     "text": [
      "21\n"
     ]
    }
   ],
   "source": [
    "import functools as ft\n",
    "mytuple = (1, 0 ,1,0,1)\n",
    "mypower = 0\n",
    "mylist = []\n",
    "for i in mytuple:\n",
    "    mylist.append((2**mypower)*i)\n",
    "    mypower +=1\n",
    "res = ft.reduce(lambda a,b:a+b,mylist)\n",
    "print(res)"
   ]
  },
  {
   "cell_type": "markdown",
   "metadata": {},
   "source": [
    "### 02) WAP to count frequency in list by dictionary."
   ]
  },
  {
   "cell_type": "code",
   "execution_count": null,
   "metadata": {},
   "outputs": [
    {
     "name": "stdout",
     "output_type": "stream",
     "text": [
      "{1: 2, 2: 2, 3: 2, 4: 2, 5: 2, 6: 2, 7: 2, 8: 2, 9: 2, 0: 2}\n"
     ]
    }
   ],
   "source": [
    "mylist = [1,2,3,4,5,6,7,8,9,0,0,9,8,7,6,5,4,3,2,1]\n",
    "freq={}\n",
    "for i in mylist:\n",
    "    if(i in freq):\n",
    "        freq[i] +=1\n",
    "    else:\n",
    "        freq[i]=1\n",
    "print(freq)"
   ]
  },
  {
   "cell_type": "markdown",
   "metadata": {},
   "source": [
    "### 03) WAP to remove all the duplicate words from the list using dictionary."
   ]
  },
  {
   "cell_type": "code",
   "execution_count": null,
   "metadata": {},
   "outputs": [
    {
     "name": "stdout",
     "output_type": "stream",
     "text": [
      "{'red': 3, 'blue': 3, 'yellow': 3, 'violet': 3}\n",
      "['red', 'blue', 'yellow', 'violet']\n"
     ]
    }
   ],
   "source": [
    "mylist = ['red','blue','yellow','violet','red','blue','yellow','violet','red','blue','yellow','violet']\n",
    "mylist2=[]\n",
    "unique={}\n",
    "for i in mylist:\n",
    "    if(i in unique):\n",
    "        unique[i]+=1\n",
    "    else:\n",
    "        unique[i]=1\n",
    "print(unique)\n",
    "mylist2.extend(unique.keys())\n",
    "print(mylist2)\n"
   ]
  },
  {
   "cell_type": "code",
   "execution_count": null,
   "metadata": {},
   "outputs": [],
   "source": []
  }
 ],
 "metadata": {
  "kernelspec": {
   "display_name": "Python 3 (ipykernel)",
   "language": "python",
   "name": "python3"
  },
  "language_info": {
   "codemirror_mode": {
    "name": "ipython",
    "version": 3
   },
   "file_extension": ".py",
   "mimetype": "text/x-python",
   "name": "python",
   "nbconvert_exporter": "python",
   "pygments_lexer": "ipython3",
   "version": "3.11.5"
  }
 },
 "nbformat": 4,
 "nbformat_minor": 4
}
