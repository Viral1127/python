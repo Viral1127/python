{
 "cells": [
  {
   "cell_type": "markdown",
   "metadata": {},
   "source": [
    "\n",
    "<a href='https://www.darshan.ac.in/'> <img src='https://www.darshan.ac.in/Content/media/DU_Logo.svg' width=\"250\" height=\"300\"/></a>\n",
    "<pre>\n",
    "<center><b><h1>Python Programming - 2101CS405</b></center>\n",
    "<center><b><h1>Lab - 4</b></center>    \n",
    "<pre>"
   ]
  },
  {
   "cell_type": "markdown",
   "metadata": {},
   "source": [
    "# String"
   ]
  },
  {
   "cell_type": "markdown",
   "metadata": {},
   "source": [
    "### 01) WAP to check given string is palindrome or not."
   ]
  },
  {
   "cell_type": "code",
   "execution_count": null,
   "metadata": {},
   "outputs": [],
   "source": [
    "str = input(\"Enter string or name\")\n",
    "b=str[::-1]\n",
    "if(b==str):\n",
    "    print(\"palindrome\")\n",
    "else:\n",
    "    print(\"Not palindrome\")"
   ]
  },
  {
   "cell_type": "markdown",
   "metadata": {},
   "source": [
    "### 02) WAP to reverse the words in given string."
   ]
  },
  {
   "cell_type": "code",
   "execution_count": null,
   "metadata": {},
   "outputs": [],
   "source": [
    "\n",
    "    \n",
    "str = input(\"enter string: \")\n",
    "str = str.split(\" \")\n",
    "a = [i[::-1] for i in str]\n",
    "for i in a :\n",
    "    print(f\"{i}\" , end= \" \")"
   ]
  },
  {
   "cell_type": "markdown",
   "metadata": {},
   "source": [
    "### 03) WAP to remove ith character from given string"
   ]
  },
  {
   "cell_type": "code",
   "execution_count": null,
   "metadata": {},
   "outputs": [],
   "source": [
    "str = input(\"Enter String\")\n",
    "i = int(input(\"Enter index of character which u want to remove : \"))\n",
    "str1 = str[0:i:] + str[i+1::]\n",
    "print(str1)"
   ]
  },
  {
   "cell_type": "markdown",
   "metadata": {},
   "source": [
    "### 04) WAP to find length of String without using len function."
   ]
  },
  {
   "cell_type": "code",
   "execution_count": null,
   "metadata": {},
   "outputs": [],
   "source": [
    "str = input(\"Enter String\")\n",
    "count=0\n",
    "for i in str:\n",
    "    count=count+1\n",
    "print(count)"
   ]
  },
  {
   "cell_type": "markdown",
   "metadata": {},
   "source": [
    "### 05) WAP to print even length word in string."
   ]
  },
  {
   "cell_type": "code",
   "execution_count": null,
   "metadata": {},
   "outputs": [],
   "source": [
    "str=input(\"Enter String\")\n",
    "str = str.split(\" \")\n",
    "for i in str :\n",
    "    if(len(i)%2==0):\n",
    "        print(i)\n",
    "        "
   ]
  },
  {
   "cell_type": "markdown",
   "metadata": {},
   "source": [
    "### 06) WAP to count numbers of vowels in given string."
   ]
  },
  {
   "cell_type": "code",
   "execution_count": null,
   "metadata": {},
   "outputs": [],
   "source": [
    "str = input(\"Enter String :  \")\n",
    "count=0\n",
    "for i in str : \n",
    "    if(i.lower()=='a' or i.lower()=='e' or i.lower()=='i' or i.lower()=='o' or i.lower()=='u'):\n",
    "        count += 1\n",
    "print(f\"count of vowel is : {count}\" )"
   ]
  },
  {
   "cell_type": "markdown",
   "metadata": {},
   "source": [
    "### 07) WAP to convert given array to string."
   ]
  },
  {
   "cell_type": "code",
   "execution_count": null,
   "metadata": {},
   "outputs": [],
   "source": [
    "myList = []\n",
    "while(True):\n",
    "    str = input(\"Enter string or press q for quite\")\n",
    "    if(str.lower()=='q'):\n",
    "        break\n",
    "    myList.append(str)\n",
    "str = (\" \").join(myList)\n",
    "print(str)"
   ]
  },
  {
   "cell_type": "markdown",
   "metadata": {},
   "source": [
    "### 01) WAP to find out duplicate characters in given string."
   ]
  },
  {
   "cell_type": "code",
   "execution_count": null,
   "metadata": {},
   "outputs": [],
   "source": [
    "myList = []\n",
    "str = input(\"Enter String\")\n",
    "for i in str : \n",
    "    if(i in myList):\n",
    "        continue\n",
    "    if(str.count(i)>1):\n",
    "        print(f\"{i} is duplicate  character\")\n",
    "        myList.append(i)"
   ]
  },
  {
   "cell_type": "markdown",
   "metadata": {},
   "source": [
    "### 02) WAP to capitalize the first and last character of each word in a string.\n"
   ]
  },
  {
   "cell_type": "code",
   "execution_count": 3,
   "metadata": {},
   "outputs": [
    {
     "name": "stdout",
     "output_type": "stream",
     "text": [
      "Enter stringviral\n",
      " ViraL\n"
     ]
    }
   ],
   "source": [
    "str = input(\"Enter string\")\n",
    "str = str.split(\" \")\n",
    "ans = \"\"\n",
    "for i in str :\n",
    "    mid = i[1:len(i)-1:]\n",
    "    ans = ans + \" \" + i[0].upper() + mid + i[len(i)-1].upper()\n",
    "print(ans)\n",
    "    "
   ]
  },
  {
   "cell_type": "markdown",
   "metadata": {},
   "source": [
    "### 03) WAP to find Maximum frequency character in String."
   ]
  },
  {
   "cell_type": "code",
   "execution_count": 6,
   "metadata": {},
   "outputs": [
    {
     "name": "stdout",
     "output_type": "stream",
     "text": [
      "Enter String : virallll\n",
      "l\n"
     ]
    }
   ],
   "source": [
    "str = input(\"Enter String : \")\n",
    "char = {}\n",
    "for i in str :\n",
    "    if i in char :\n",
    "        char[i]+=1\n",
    "    else:\n",
    "        char[i]=1\n",
    "print(max(char,key=char.get))"
   ]
  },
  {
   "cell_type": "markdown",
   "metadata": {},
   "source": [
    "### 04) WAP to find Minimum frequency character in String."
   ]
  },
  {
   "cell_type": "code",
   "execution_count": 7,
   "metadata": {},
   "outputs": [
    {
     "name": "stdout",
     "output_type": "stream",
     "text": [
      "Enter String : viiirrraaallll\n",
      "v\n"
     ]
    }
   ],
   "source": [
    "str = input(\"Enter String : \")\n",
    "char = {}\n",
    "for i in str :\n",
    "    if i in char :\n",
    "        char[i]+=1\n",
    "    else:\n",
    "        char[i]=1\n",
    "print(min(char,key=char.get))"
   ]
  },
  {
   "cell_type": "markdown",
   "metadata": {},
   "source": [
    "### 05) WAP to check if a given string is binary string or not"
   ]
  },
  {
   "cell_type": "code",
   "execution_count": 9,
   "metadata": {},
   "outputs": [
    {
     "name": "stdout",
     "output_type": "stream",
     "text": [
      "Enter number :  01001\n",
      "Binary\n"
     ]
    }
   ],
   "source": [
    "str = input(\"Enter number :  \")\n",
    "c=0\n",
    "for i in str:\n",
    "    if(i!=\"0\" and i!=\"1\"):\n",
    "        print(\"Not a binary\")\n",
    "        c=1\n",
    "        break\n",
    "if(c==0):\n",
    "    print(\"Binary\")\n"
   ]
  }
 ],
 "metadata": {
  "kernelspec": {
   "display_name": "Python 3 (ipykernel)",
   "language": "python",
   "name": "python3"
  },
  "language_info": {
   "codemirror_mode": {
    "name": "ipython",
    "version": 3
   },
   "file_extension": ".py",
   "mimetype": "text/x-python",
   "name": "python",
   "nbconvert_exporter": "python",
   "pygments_lexer": "ipython3",
   "version": "3.12.1"
  },
  "vscode": {
   "interpreter": {
    "hash": "31f2aee4e71d21fbe5cf8b01ff0e069b9275f58929596ceb00d14d90e3e16cd6"
   }
  }
 },
 "nbformat": 4,
 "nbformat_minor": 4
}
